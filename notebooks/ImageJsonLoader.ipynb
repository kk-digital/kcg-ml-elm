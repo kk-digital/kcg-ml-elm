{
  "cells": [
    {
      "cell_type": "code",
      "execution_count": null,
      "metadata": {},
      "outputs": [],
      "source": [
        "# The variables below describes if the notebook is no test mode or not,\n",
        "# when \"test\", it means the data can be fewer than the original data.\n",
        "# Result is not important, but the speed to test if it the notebook work is.\n",
        "\n",
        "\n",
        "ENV_TYPE = \"test\" # \"test\" or \"production\""
      ]
    },
    {
      "attachments": {},
      "cell_type": "markdown",
      "metadata": {
        "id": "Vw1qd0pvkyx0"
      },
      "source": [
        "#Image (JSON) Save/Load functions \n",
        "\n",
        "This code implements:\n",
        "\n",
        "* Function load_all_json_files(folder_path) $\\rightarrow$ look for every folder, subfolder, zipfile, folder and subfolder inside zip file looking for json files. Will check every of the json objects found to see if it is image and will return a list containing all the images found.\n",
        "\n",
        "  When an image is loaded, a property \"json_file_location\" is added, containing where it has been loaded relative to the place of the code execution.\n",
        "\n",
        "* Function load_json_files_in_zip(zip_path) $\\rightarrow$ will do the same process, but only inside a zip. It is used by the first function.\n",
        "\n",
        "* Function extract_images_from_json_tuple(dictionaryTuple, image_definition) $\\rightarrow$ will loop through every JSON object checking if it is an image. An image is defined by an object that has the property image_definition. In the previous examples, an image is something that has a clip_model.\n",
        "\n",
        "* Function save_to_json $→$ takes a tuple of dictionaries (to put in json) and has filename=\"output.json\" default parameter.\n",
        "\n",
        "###Images are loaded and saved in tuples of dictionaries."
      ]
    },
    {
      "cell_type": "code",
      "execution_count": 3,
      "metadata": {
        "colab": {
          "base_uri": "https://localhost:8080/"
        },
        "id": "1sb7yIz-esyQ",
        "outputId": "b06e4374-f342-477b-a9b1-1255a4a38a4a"
      },
      "outputs": [
        {
          "name": "stdout",
          "output_type": "stream",
          "text": [
            "file_archive:  pixel-art-pinterest-000.zip\n",
            "file_name:  images-0004/Vegi_Brokeller_pixel-art-inspiration/https___i.pinimg.com_originals_64_66_bc_6466bc83e810675b0317d705c90766d0.jpg\n",
            "file_path:  /input/image-scraper-pixel-art-result/pixel-art-pinterest-000.zip/images-0004/Vegi_Brokeller_pixel-art-inspiration\n",
            "file_hash:  f4353ab3c192f89ec9c30d3c606293162b44a2fdf4482ddd943b7538ab9756a6\n",
            "clip_model:  ViT-L/14\n",
            "json_file_location:  /example1.json\n"
          ]
        }
      ],
      "source": [
        "import os\n",
        "import fnmatch\n",
        "import zipfile\n",
        "import hashlib\n",
        "import json\n",
        "import sys\n",
        "\n",
        "def load_json_files_in_zip(zip_path):\n",
        "    zip_rel_loc = '/' + os.path.relpath(zip_path, os.getcwd())\n",
        "    image_files_in_zip = []\n",
        "    with zipfile.ZipFile(zip_path, 'r') as zip_file:\n",
        "        for file in zip_file.namelist():\n",
        "            if file.endswith('.json'):\n",
        "                jsonpath = zip_path + file\n",
        "                with zip_file.open(file) as file_opened:\n",
        "                    data = json.load(file_opened)\n",
        "                    data = extract_images_from_json_tuple(data, 'clip_model') #remove this code to import every object\n",
        "                    #this code imports only objects that has 'clip model' (images)\n",
        "                    for index, x in enumerate(data):\n",
        "\n",
        "                        data[index]['json_file_location'] = zip_rel_loc + '/' + file\n",
        "                image_files_in_zip.extend(data)\n",
        "\n",
        "\n",
        "    return image_files_in_zip\n",
        "\n",
        "def extract_images_from_json_tuple(dictionaryTuple, image_definition):\n",
        "    #image_definition: a object that every image in json files contain. we're using clip_model.\n",
        "    imagesFromJSON = ()\n",
        "    for jsonObject in dictionaryTuple:\n",
        "        if image_definition in jsonObject:\n",
        "            imagesFromJSON = imagesFromJSON + (jsonObject,)\n",
        "    return imagesFromJSON\n",
        "\n",
        "def load_all_json_files(folder_path):\n",
        "\n",
        "    image_files = []\n",
        "    for root, dirs, files in os.walk(folder_path):\n",
        "        for file in files:\n",
        "            if fnmatch.fnmatch(file, '*.json'): #if the found file is a json, import it.\n",
        "                jsonpath = os.path.join(root, file)\n",
        "                with open(jsonpath, 'r') as f:\n",
        "                    data = json.load(f)\n",
        "                    file_path = os.path.relpath(jsonpath, folder_path)\n",
        "\n",
        "                data = extract_images_from_json_tuple(data, 'clip_model') #remove this code to import every object\n",
        "                #this code imports only objects that has 'clip model' (images)\n",
        "\n",
        "                for index, x in enumerate(data):\n",
        "\n",
        "                    data[index]['json_file_location'] = '/' + file_path\n",
        "\n",
        "                image_files.extend(data)\n",
        "\n",
        "            if fnmatch.fnmatch(file, '*.zip'): #if the found file is a zip, look for json inside.\n",
        "                image_files.extend(load_json_files_in_zip(os.path.join(root, file)))\n",
        "    return image_files\n",
        "\n",
        "def save_to_json(tuple_of_dictionaries, filename=\"output.json\"):\n",
        "    with open(filename, \"w\") as f:\n",
        "        json.dump(tuple_of_dictionaries, f)\n",
        "\n",
        "\n",
        "#This function takes parameter folder path.\n",
        "#will look for JSON files in the folder path.\n",
        "#if found a folder, will open that folder and look for json folders inside that folder.\n",
        "#if find zip, will look for json folders inside the zip and its subfolders as well. \n",
        "#will return a tuple containing all loaded information. \n",
        "\n",
        "#example usage\n",
        "folder_path = os.getcwd() #set to function on current os folder.\n",
        "data = load_all_json_files(folder_path)\n",
        "\n",
        "if len(data): #to ensure you have some image json files\n",
        "        print('file_archive: ', data[0]['file_archive'])\n",
        "        print('file_name: ', data[0]['file_name'])\n",
        "        print('file_path: ', data[0]['file_path'])\n",
        "        print('file_hash: ', data[0]['file_hash'])\n",
        "        print('clip_model: ', data[0]['clip_model'])\n",
        "        #print('clip_vector', data[0]['clip_vector']) #commented out because vector is too large\n",
        "\n",
        "        #this code also creates specific \"json_file_location\" in every dictionary containing the location of where\n",
        "        #the json file was loaded from. \n",
        "        print('json_file_location: ', data[0]['json_file_location'])\n",
        "        save_to_json(data, \"example1.json\") #save the loaded information into another file (example 1)\n",
        "\n",
        "\n"
      ]
    }
  ],
  "metadata": {
    "colab": {
      "provenance": []
    },
    "kernelspec": {
      "display_name": "Python 3",
      "name": "python3"
    },
    "language_info": {
      "name": "python"
    }
  },
  "nbformat": 4,
  "nbformat_minor": 0
}
